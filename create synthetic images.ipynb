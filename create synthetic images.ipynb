{
 "cells": [
  {
   "cell_type": "code",
   "execution_count": 1,
   "metadata": {},
   "outputs": [],
   "source": [
    "import torch.utils.data\n",
    "from skimage.draw import polygon\n",
    "from skimage.io import imsave\n",
    "import numpy as np\n",
    "import matplotlib.pyplot as plt\n",
    "import math\n",
    "\n",
    "import warnings\n",
    "warnings.filterwarnings(\"ignore\")"
   ]
  },
  {
   "cell_type": "code",
   "execution_count": 5,
   "metadata": {},
   "outputs": [],
   "source": [
    "no_of_images = 10000"
   ]
  },
  {
   "cell_type": "code",
   "execution_count": 11,
   "metadata": {
    "scrolled": true
   },
   "outputs": [
    {
     "data": {
      "image/png": "[encoded data removed]",
      "text/plain": [
       "<Figure size 432x288 with 1 Axes>"
      ]
     },
     "metadata": {
      "needs_background": "light"
     },
     "output_type": "display_data"
    }
   ],
   "source": [
    "for a in np.arange(no_of_images):\n",
    "    rand_img_type = np.random.randint(0,2)\n",
    "    rand_angle = np.random.randint(10,30)\n",
    "    vertice_cnt = np.random.randint(3,10)\n",
    "    vertice_lngth = np.random.randint(5,40)\n",
    "    rand_grayscale = np.random.randint(15, 255)\n",
    "    r = []\n",
    "    c = []\n",
    "    for i in np.arange(1,vertice_cnt+1):\n",
    "        angle = (2*math.pi*i/vertice_cnt)+(2*math.pi/rand_angle)\n",
    "        r.append(int(np.sin(angle)*vertice_lngth)+40)\n",
    "        c.append(int(np.cos(angle)*vertice_lngth)+40)\n",
    "    rr, cc = polygon(r, c)\n",
    "    \n",
    "    if rand_img_type == 0:\n",
    "        img = np.ones([80,80], dtype=np.uint8)\n",
    "        img[rr, cc] = 0\n",
    "    else:\n",
    "        img = np.zeros([80,80], dtype=np.uint8)\n",
    "        img[rr, cc] = 1\n",
    "    \n",
    "    plt.imshow(img, cmap=plt.cm.gray)\n",
    "    filename1 = \"pseudo/images/6_\"+str(a)+\".jpg\"\n",
    "    img = img*rand_grayscale\n",
    "    imsave(filename1, img)\n",
    "    \n",
    "    op = np.zeros([65,10,10], dtype=np.int_)\n",
    "    for i in np.arange(np.array([r,c]).shape[1]):\n",
    "        x = (np.array([r,c])[0,i])\n",
    "        y = (np.array([r,c])[1,i])\n",
    "\n",
    "        aa = int(np.floor(x/8))\n",
    "        bb = int(np.floor(y/8))\n",
    "        cc = int(((((((x+1)/8)-aa)*8)-1)*8) + (((((y+1)/8)-bb)*8)-1))\n",
    "\n",
    "        op[cc,aa,bb] = 1\n",
    "        \n",
    "    for i in np.arange(10):\n",
    "        for j in np.arange(10):\n",
    "            if sum(op[:,i,j]) == 0:\n",
    "                op[64,i,j] = 1.\n",
    "                \n",
    "    filename2 = \"pseudo/groundtruth/6_\"+str(a)+\".npy\"\n",
    "    np.save(filename2, op)"
   ]
  },
  {
   "cell_type": "code",
   "execution_count": null,
   "metadata": {},
   "outputs": [],
   "source": []
  }
 ],
 "metadata": {
  "kernelspec": {
   "display_name": "Python 3",
   "language": "python",
   "name": "python3"
  },
  "language_info": {
   "codemirror_mode": {
    "name": "ipython",
    "version": 3
   },
   "file_extension": ".py",
   "mimetype": "text/x-python",
   "name": "python",
   "nbconvert_exporter": "python",
   "pygments_lexer": "ipython3",
   "version": "3.7.3"
  }
 },
 "nbformat": 4,
 "nbformat_minor": 2
}
